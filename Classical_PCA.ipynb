{
 "cells": [
  {
   "cell_type": "code",
   "execution_count": 2,
   "id": "a05d4b52-80f1-458e-8254-8c26e62ceaa9",
   "metadata": {},
   "outputs": [
    {
     "ename": "ModuleNotFoundError",
     "evalue": "No module named 'ibm_quantum_widgets'",
     "output_type": "error",
     "traceback": [
      "\u001b[0;31m---------------------------------------------------------------------------\u001b[0m",
      "\u001b[0;31mModuleNotFoundError\u001b[0m                       Traceback (most recent call last)",
      "\u001b[1;32m/Users/calebaguirre-leon/Desktop/QxQ_qPCA_Project/Classical_PCA.ipynb Cell 1'\u001b[0m in \u001b[0;36m<cell line: 7>\u001b[0;34m()\u001b[0m\n\u001b[1;32m      <a href='vscode-notebook-cell:/Users/calebaguirre-leon/Desktop/QxQ_qPCA_Project/Classical_PCA.ipynb#ch0000000?line=4'>5</a>\u001b[0m \u001b[39mfrom\u001b[39;00m \u001b[39mqiskit\u001b[39;00m\u001b[39m.\u001b[39;00m\u001b[39mtools\u001b[39;00m\u001b[39m.\u001b[39;00m\u001b[39mjupyter\u001b[39;00m \u001b[39mimport\u001b[39;00m \u001b[39m*\u001b[39m\n\u001b[1;32m      <a href='vscode-notebook-cell:/Users/calebaguirre-leon/Desktop/QxQ_qPCA_Project/Classical_PCA.ipynb#ch0000000?line=5'>6</a>\u001b[0m \u001b[39mfrom\u001b[39;00m \u001b[39mqiskit\u001b[39;00m\u001b[39m.\u001b[39;00m\u001b[39mvisualization\u001b[39;00m \u001b[39mimport\u001b[39;00m \u001b[39m*\u001b[39m\n\u001b[0;32m----> <a href='vscode-notebook-cell:/Users/calebaguirre-leon/Desktop/QxQ_qPCA_Project/Classical_PCA.ipynb#ch0000000?line=6'>7</a>\u001b[0m \u001b[39mfrom\u001b[39;00m \u001b[39mibm_quantum_widgets\u001b[39;00m \u001b[39mimport\u001b[39;00m \u001b[39m*\u001b[39m\n\u001b[1;32m      <a href='vscode-notebook-cell:/Users/calebaguirre-leon/Desktop/QxQ_qPCA_Project/Classical_PCA.ipynb#ch0000000?line=7'>8</a>\u001b[0m \u001b[39mfrom\u001b[39;00m \u001b[39mqiskit\u001b[39;00m\u001b[39m.\u001b[39;00m\u001b[39mproviders\u001b[39;00m\u001b[39m.\u001b[39;00m\u001b[39maer\u001b[39;00m \u001b[39mimport\u001b[39;00m QasmSimulator\n\u001b[1;32m     <a href='vscode-notebook-cell:/Users/calebaguirre-leon/Desktop/QxQ_qPCA_Project/Classical_PCA.ipynb#ch0000000?line=9'>10</a>\u001b[0m \u001b[39m# Loading your IBM Quantum account(s)\u001b[39;00m\n",
      "\u001b[0;31mModuleNotFoundError\u001b[0m: No module named 'ibm_quantum_widgets'"
     ]
    }
   ],
   "source": [
    "import numpy as np\n",
    "from sklearn.decomposition import PCA\n",
    "# Importing standard Qiskit libraries\n",
    "from qiskit import QuantumCircuit, transpile, Aer, IBMQ\n",
    "from qiskit.tools.jupyter import *\n",
    "from qiskit.visualization import *\n",
    "from ibm_quantum_widgets import *\n",
    "from qiskit.providers.aer import QasmSimulator\n",
    "\n",
    "# Loading your IBM Quantum account(s)\n",
    "provider = IBMQ.load_account()"
   ]
  },
  {
   "cell_type": "code",
   "execution_count": null,
   "id": "888dc635-c05e-4d85-9ccc-f4d993274046",
   "metadata": {},
   "outputs": [
    {
     "data": {
      "text/plain": [
       "array([[126,  78],\n",
       "       [128,  80],\n",
       "       [128,  82],\n",
       "       [130,  82],\n",
       "       [130,  84],\n",
       "       [132,  86]], dtype=int32)"
      ]
     },
     "metadata": {},
     "output_type": "display_data"
    }
   ],
   "source": [
    "# Example matrix\n",
    "a = np.array([[126, 78], [128, 80], [128, 82], [130, 82], [130, 84],  [132, 86]], dtype=np.int32)\n",
    "display(a)"
   ]
  },
  {
   "cell_type": "code",
   "execution_count": null,
   "id": "54e19664-8d61-4a7a-a2cf-108205f04995",
   "metadata": {},
   "outputs": [],
   "source": [
    "#Let's create a function to do this for us:\n",
    "class new_PCA:\n",
    "    def __init__(self, matrix):\n",
    "        self.matrix = matrix\n",
    "        self.centered = self.center_matrix(matrix)\n",
    "        self.covariance = np.cov(self.centered, rowvar=False)\n",
    "        self.eigen = np.linalg.eig(self.covariance)\n",
    "        self.eigenvalues, self.eigenvectors = self.organizer(self.eigen)\n",
    "        self.projection = self.PCA(self.centered, self.eigenvectors)\n",
    "    \n",
    "    def center_matrix(self, matrix):\n",
    "        return matrix - matrix.mean(axis=0)\n",
    "\n",
    "    \n",
    "    def organizer(self, eigen):\n",
    "        index_list = np.flip(np.argsort(eigen[0]))\n",
    "        newvectors = np.empty((0,2))\n",
    "        eigen_vectors = eigen[1].transpose()\n",
    "        for i in index_list:\n",
    "            newvectors = np.append(newvectors, [eigen_vectors[i]], axis=0)\n",
    "        return np.flip(np.sort(eigen[0])), newvectors.transpose()\n",
    "    \n",
    "    \n",
    "    def PCA(self, centered, eigenvectors):\n",
    "        return centered.dot(eigenvectors)"
   ]
  },
  {
   "cell_type": "code",
   "execution_count": null,
   "id": "6eef4ec2-f633-43c7-9ff1-843fba64bb80",
   "metadata": {},
   "outputs": [
    {
     "name": "stdout",
     "output_type": "stream",
     "text": [
      "eigenvectors:\n",
      " [[-0.58906316 -0.80808699]\n",
      " [-0.80808699  0.58906316]]\n",
      "eigenvalues:\n",
      " [12.08217647  0.31782353]\n",
      "Principal transformation:\n",
      " [[ 4.99953747  0.06800833]\n",
      " [ 2.20523715 -0.37003933]\n",
      " [ 0.58906316  0.80808699]\n",
      " [-0.58906316 -0.80808699]\n",
      " [-2.20523715  0.37003933]\n",
      " [-4.99953747 -0.06800833]]\n"
     ]
    }
   ],
   "source": [
    "pca_matrix = new_PCA(a)\n",
    "pca_matrix.projection\n",
    "print(\"eigenvectors:\\n\", pca_matrix.eigenvectors)\n",
    "print(\"eigenvalues:\\n\", pca_matrix.eigenvalues)\n",
    "print(\"Principal transformation:\\n\", pca_matrix.projection)"
   ]
  },
  {
   "cell_type": "code",
   "execution_count": null,
   "id": "ecfaa9af-20e9-47eb-97ec-f31f52f7f0ba",
   "metadata": {},
   "outputs": [
    {
     "name": "stdout",
     "output_type": "stream",
     "text": [
      "eigenvectors:\n",
      " [[-0.58906316 -0.80808699]\n",
      " [-0.80808699  0.58906316]]\n",
      "eigenvalues:\n",
      " [12.08217647  0.31782353]\n",
      "Principal transformation:\n",
      " [[ 4.99953747  0.06800833]\n",
      " [ 2.20523715 -0.37003933]\n",
      " [ 0.58906316  0.80808699]\n",
      " [-0.58906316 -0.80808699]\n",
      " [-2.20523715  0.37003933]\n",
      " [-4.99953747 -0.06800833]]\n"
     ]
    }
   ],
   "source": [
    "# PCA Ready module. We'll use as benchmark.\n",
    "oldPCA = PCA()\n",
    "oldPCA.fit(a)\n",
    "print(\"eigenvectors:\\n\", oldPCA.components_)\n",
    "print(\"eigenvalues:\\n\", oldPCA.explained_variance_)\n",
    "print(\"Principal transformation:\\n\", oldPCA.transform(a))"
   ]
  },
  {
   "cell_type": "code",
   "execution_count": null,
   "id": "604407b0-927c-434f-858e-d2f5c45aaabd",
   "metadata": {},
   "outputs": [
    {
     "data": {
      "text/plain": [
       "True"
      ]
     },
     "execution_count": 29,
     "metadata": {},
     "output_type": "execute_result"
    }
   ],
   "source": [
    "# Did it work?? (Values may not be exactly the same.\n",
    "np.allclose(oldPCA.transform(a), pca_matrix.projection)"
   ]
  },
  {
   "cell_type": "code",
   "execution_count": null,
   "id": "c2f9995d-44b1-4635-8c15-9e17905d1657",
   "metadata": {},
   "outputs": [
    {
     "data": {
      "text/plain": [
       "array([[1., 2.],\n",
       "       [3., 4.],\n",
       "       [5., 6.]])"
      ]
     },
     "metadata": {},
     "output_type": "display_data"
    }
   ],
   "source": [
    "b = np.array([[1., 2.], [3., 4.], [5., 6.]])\n",
    "display(b)"
   ]
  },
  {
   "cell_type": "code",
   "execution_count": null,
   "id": "bfc953d5-cf4c-46f9-96a7-7e76379cfbd3",
   "metadata": {},
   "outputs": [
    {
     "data": {
      "text/plain": [
       "array([[-2.82842712,  0.        ],\n",
       "       [ 0.        ,  0.        ],\n",
       "       [ 2.82842712,  0.        ]])"
      ]
     },
     "metadata": {},
     "output_type": "display_data"
    },
    {
     "data": {
      "text/plain": [
       "array([[-2.82842712,  0.        ],\n",
       "       [ 0.        ,  0.        ],\n",
       "       [ 2.82842712,  0.        ]])"
      ]
     },
     "metadata": {},
     "output_type": "display_data"
    }
   ],
   "source": [
    "b_newpca = new_PCA(b)\n",
    "display(b_newpca.projection)\n",
    "b_pca = PCA()\n",
    "display(b_pca.fit_transform(b))"
   ]
  },
  {
   "cell_type": "code",
   "execution_count": 3,
   "id": "3a3b3c11-6837-489d-a184-3d19a6396543",
   "metadata": {},
   "outputs": [
    {
     "data": {
      "text/plain": [
       "array([[1.5, 0.5],\n",
       "       [0.5, 1.5]])"
      ]
     },
     "metadata": {},
     "output_type": "display_data"
    },
    {
     "name": "stdout",
     "output_type": "stream",
     "text": [
      "MYPCA\n"
     ]
    },
    {
     "ename": "NameError",
     "evalue": "name 'new_PCA' is not defined",
     "output_type": "error",
     "traceback": [
      "\u001b[0;31m---------------------------------------------------------------------------\u001b[0m",
      "\u001b[0;31mNameError\u001b[0m                                 Traceback (most recent call last)",
      "\u001b[1;32m/Users/calebaguirre-leon/Desktop/QxQ_qPCA_Project/Classical_PCA.ipynb Cell 9'\u001b[0m in \u001b[0;36m<cell line: 5>\u001b[0;34m()\u001b[0m\n\u001b[1;32m      <a href='vscode-notebook-cell:/Users/calebaguirre-leon/Desktop/QxQ_qPCA_Project/Classical_PCA.ipynb#ch0000008?line=1'>2</a>\u001b[0m display(c)\n\u001b[1;32m      <a href='vscode-notebook-cell:/Users/calebaguirre-leon/Desktop/QxQ_qPCA_Project/Classical_PCA.ipynb#ch0000008?line=3'>4</a>\u001b[0m \u001b[39mprint\u001b[39m(\u001b[39m\"\u001b[39m\u001b[39mMYPCA\u001b[39m\u001b[39m\"\u001b[39m)\n\u001b[0;32m----> <a href='vscode-notebook-cell:/Users/calebaguirre-leon/Desktop/QxQ_qPCA_Project/Classical_PCA.ipynb#ch0000008?line=4'>5</a>\u001b[0m c_newpca \u001b[39m=\u001b[39m new_PCA(c)\n\u001b[1;32m      <a href='vscode-notebook-cell:/Users/calebaguirre-leon/Desktop/QxQ_qPCA_Project/Classical_PCA.ipynb#ch0000008?line=5'>6</a>\u001b[0m display(c_newpca\u001b[39m.\u001b[39mprojection)\n\u001b[1;32m      <a href='vscode-notebook-cell:/Users/calebaguirre-leon/Desktop/QxQ_qPCA_Project/Classical_PCA.ipynb#ch0000008?line=6'>7</a>\u001b[0m display(c_newpca\u001b[39m.\u001b[39meigenvalues)\n",
      "\u001b[0;31mNameError\u001b[0m: name 'new_PCA' is not defined"
     ]
    }
   ],
   "source": [
    "c = np.array([[1.5, 0.5], [0.5, 1.5]])\n",
    "display(c)\n",
    "\n",
    "print(\"MYPCA\")\n",
    "c_newpca = new_PCA(c)\n",
    "display(c_newpca.projection)\n",
    "display(c_newpca.eigenvalues)\n",
    "display(c_newpca.eigenvectors)\n",
    "\n",
    "print(\"TheirPCA\")\n",
    "c_pca = PCA()\n",
    "display(c_pca.fit_transform(c))\n",
    "display(c_pca.explained_variance_)\n",
    "display(oldPCA.components_)"
   ]
  },
  {
   "cell_type": "markdown",
   "id": "019920be-1528-41d3-b617-10ea08990203",
   "metadata": {},
   "source": [
    "# Time to implement quantum PCA:"
   ]
  },
  {
   "cell_type": "code",
   "execution_count": 21,
   "id": "e3705a4f-ab95-4dfb-89f9-c9e2fab75354",
   "metadata": {},
   "outputs": [],
   "source": [
    "# We need to generate our states\n",
    "# We create the following function that will return an NP array with the set state vector.\n",
    "\n",
    "def state_prep(matrix):\n",
    "    flat = np.array([matrix.flatten()])\n",
    "    sumsq = np.sqrt(np.sum(matrix**2))\n",
    "    return flat.T/sumsq"
   ]
  },
  {
   "cell_type": "code",
   "execution_count": 33,
   "id": "b80f4dd7-c526-4659-a014-0207a473e0e3",
   "metadata": {},
   "outputs": [
    {
     "data": {
      "text/plain": [
       "array([[0.67082039],\n",
       "       [0.2236068 ],\n",
       "       [0.2236068 ],\n",
       "       [0.67082039]])"
      ]
     },
     "execution_count": 33,
     "metadata": {},
     "output_type": "execute_result"
    }
   ],
   "source": [
    "state_prep(c)"
   ]
  },
  {
   "cell_type": "code",
   "execution_count": null,
   "id": "77e43c82-d8ad-49c6-9a3d-e3eab6cbf3f4",
   "metadata": {},
   "outputs": [],
   "source": []
  }
 ],
 "metadata": {
  "kernelspec": {
   "display_name": "Python 3.10.4 64-bit ('3.10.4')",
   "language": "python",
   "name": "python3"
  },
  "language_info": {
   "codemirror_mode": {
    "name": "ipython",
    "version": 3
   },
   "file_extension": ".py",
   "mimetype": "text/x-python",
   "name": "python",
   "nbconvert_exporter": "python",
   "pygments_lexer": "ipython3",
   "version": "3.10.4"
  },
  "vscode": {
   "interpreter": {
    "hash": "e41e957acd8736f7d587c3c5b809f89b6b244944ccdb60fe1d561f0d4777ba23"
   }
  },
  "widgets": {
   "application/vnd.jupyter.widget-state+json": {
    "state": {
     "0ac9c5b86dc94304b20d3a257a898eef": {
      "model_module": "@jupyter-widgets/controls",
      "model_module_version": "1.5.0",
      "model_name": "HTMLModel",
      "state": {
       "layout": "IPY_MODEL_c99c560255a74e0ab4a08a1d567446b1",
       "style": "IPY_MODEL_373c15e2965b48ce8575cb68488fc5f7",
       "value": "<h5>Message</h5>"
      }
     },
     "22a1273db3884e499f9d0acec573e7d4": {
      "model_module": "@jupyter-widgets/controls",
      "model_module_version": "1.5.0",
      "model_name": "GridBoxModel",
      "state": {
       "children": [
        "IPY_MODEL_9eb606611f1f496caa1d824f7d965f72"
       ],
       "layout": "IPY_MODEL_3dda73f12a0f4383a8773f6e286a5de6"
      }
     },
     "2b8e842918d04eaa8c6589a49e01747c": {
      "model_module": "@jupyter-widgets/base",
      "model_module_version": "1.2.0",
      "model_name": "LayoutModel",
      "state": {
       "width": "70px"
      }
     },
     "373c15e2965b48ce8575cb68488fc5f7": {
      "model_module": "@jupyter-widgets/controls",
      "model_module_version": "1.5.0",
      "model_name": "DescriptionStyleModel",
      "state": {
       "description_width": ""
      }
     },
     "3c60846ddc3c4ac896088d30bbc5e025": {
      "model_module": "@jupyter-widgets/controls",
      "model_module_version": "1.5.0",
      "model_name": "DescriptionStyleModel",
      "state": {
       "description_width": ""
      }
     },
     "3dda73f12a0f4383a8773f6e286a5de6": {
      "model_module": "@jupyter-widgets/base",
      "model_module_version": "1.2.0",
      "model_name": "LayoutModel",
      "state": {
       "grid_template_areas": "\n                                       \". . . . right \"\n                                        ",
       "grid_template_columns": "20% 20% 20% 20% 20%",
       "width": "100%"
      }
     },
     "46a37ac8e2304b7c8f863ef7295182e9": {
      "model_module": "@jupyter-widgets/base",
      "model_module_version": "1.2.0",
      "model_name": "LayoutModel",
      "state": {
       "grid_area": "right",
       "padding": "0px 0px 0px 0px",
       "width": "70px"
      }
     },
     "5e4dc8d5befe45d3aa9b5cb104aa8b4c": {
      "model_module": "@jupyter-widgets/controls",
      "model_module_version": "1.5.0",
      "model_name": "ButtonStyleModel",
      "state": {}
     },
     "619765dfd4e64c12b098ba3c74b3685a": {
      "model_module": "@jupyter-widgets/controls",
      "model_module_version": "1.5.0",
      "model_name": "DescriptionStyleModel",
      "state": {
       "description_width": ""
      }
     },
     "698afc3908b944b588a81e3c4b12339e": {
      "model_module": "@jupyter-widgets/base",
      "model_module_version": "1.2.0",
      "model_name": "LayoutModel",
      "state": {
       "margin": "0px 0px 10px 0px"
      }
     },
     "7bce961b68234143bab7d35ea6b7cbd6": {
      "model_module": "@jupyter-widgets/controls",
      "model_module_version": "1.5.0",
      "model_name": "HTMLModel",
      "state": {
       "layout": "IPY_MODEL_2b8e842918d04eaa8c6589a49e01747c",
       "style": "IPY_MODEL_9b63a9836a1d490fb7ff2bae203580b1",
       "value": "<h5>Queue</h5>"
      }
     },
     "932982ae35024d2e8b13a0377187b0e8": {
      "model_module": "@jupyter-widgets/controls",
      "model_module_version": "1.5.0",
      "model_name": "DescriptionStyleModel",
      "state": {
       "description_width": ""
      }
     },
     "96947a4d31a54dcf90c3403fe970c8c8": {
      "model_module": "@jupyter-widgets/base",
      "model_module_version": "1.2.0",
      "model_name": "LayoutModel",
      "state": {
       "width": "95px"
      }
     },
     "994cc1aa7c9645a0905bc03f3aa320c5": {
      "model_module": "@jupyter-widgets/controls",
      "model_module_version": "1.5.0",
      "model_name": "DescriptionStyleModel",
      "state": {
       "description_width": ""
      }
     },
     "9b63a9836a1d490fb7ff2bae203580b1": {
      "model_module": "@jupyter-widgets/controls",
      "model_module_version": "1.5.0",
      "model_name": "DescriptionStyleModel",
      "state": {
       "description_width": ""
      }
     },
     "9eb606611f1f496caa1d824f7d965f72": {
      "model_module": "@jupyter-widgets/controls",
      "model_module_version": "1.5.0",
      "model_name": "ButtonModel",
      "state": {
       "button_style": "primary",
       "description": "Clear",
       "layout": "IPY_MODEL_46a37ac8e2304b7c8f863ef7295182e9",
       "style": "IPY_MODEL_5e4dc8d5befe45d3aa9b5cb104aa8b4c"
      }
     },
     "ae0b76e9b96d4068a51436214140debe": {
      "model_module": "@jupyter-widgets/controls",
      "model_module_version": "1.5.0",
      "model_name": "HTMLModel",
      "state": {
       "layout": "IPY_MODEL_96947a4d31a54dcf90c3403fe970c8c8",
       "style": "IPY_MODEL_3c60846ddc3c4ac896088d30bbc5e025",
       "value": "<h5>Status</h5>"
      }
     },
     "b4f99fdea7a74dc887d3d4dfebf61dba": {
      "model_module": "@jupyter-widgets/controls",
      "model_module_version": "1.5.0",
      "model_name": "HBoxModel",
      "state": {
       "children": [
        "IPY_MODEL_f5a79266baf0466b8165590601a2874c",
        "IPY_MODEL_f2c869ee09d64aa2835d469adbc2c914",
        "IPY_MODEL_ae0b76e9b96d4068a51436214140debe",
        "IPY_MODEL_7bce961b68234143bab7d35ea6b7cbd6",
        "IPY_MODEL_0ac9c5b86dc94304b20d3a257a898eef"
       ],
       "layout": "IPY_MODEL_bacf398753434a4881fb23f0d1965f34"
      }
     },
     "bacf398753434a4881fb23f0d1965f34": {
      "model_module": "@jupyter-widgets/base",
      "model_module_version": "1.2.0",
      "model_name": "LayoutModel",
      "state": {
       "margin": "0px 0px 0px 37px",
       "width": "600px"
      }
     },
     "c99c560255a74e0ab4a08a1d567446b1": {
      "model_module": "@jupyter-widgets/base",
      "model_module_version": "1.2.0",
      "model_name": "LayoutModel",
      "state": {}
     },
     "ca7223ef19904c409bee036d1a6dc570": {
      "model_module": "@jupyter-widgets/base",
      "model_module_version": "1.2.0",
      "model_name": "LayoutModel",
      "state": {
       "width": "190px"
      }
     },
     "d9b203c680ab4bc0b01fbb58f5fd011b": {
      "model_module": "@jupyter-widgets/controls",
      "model_module_version": "1.5.0",
      "model_name": "HTMLModel",
      "state": {
       "layout": "IPY_MODEL_698afc3908b944b588a81e3c4b12339e",
       "style": "IPY_MODEL_994cc1aa7c9645a0905bc03f3aa320c5",
       "value": "<p style='font-family: IBM Plex Sans, Arial, Helvetica, sans-serif; font-size: 20px; font-weight: medium;'>Circuit Properties</p>"
      }
     },
     "f2c869ee09d64aa2835d469adbc2c914": {
      "model_module": "@jupyter-widgets/controls",
      "model_module_version": "1.5.0",
      "model_name": "HTMLModel",
      "state": {
       "layout": "IPY_MODEL_faf4af80c1654ee78fd9b8e1d1acbef2",
       "style": "IPY_MODEL_619765dfd4e64c12b098ba3c74b3685a",
       "value": "<h5>Backend</h5>"
      }
     },
     "f5a79266baf0466b8165590601a2874c": {
      "model_module": "@jupyter-widgets/controls",
      "model_module_version": "1.5.0",
      "model_name": "HTMLModel",
      "state": {
       "layout": "IPY_MODEL_ca7223ef19904c409bee036d1a6dc570",
       "style": "IPY_MODEL_932982ae35024d2e8b13a0377187b0e8",
       "value": "<h5>Job ID</h5>"
      }
     },
     "faf4af80c1654ee78fd9b8e1d1acbef2": {
      "model_module": "@jupyter-widgets/base",
      "model_module_version": "1.2.0",
      "model_name": "LayoutModel",
      "state": {
       "width": "145px"
      }
     }
    },
    "version_major": 2,
    "version_minor": 0
   }
  }
 },
 "nbformat": 4,
 "nbformat_minor": 5
}
