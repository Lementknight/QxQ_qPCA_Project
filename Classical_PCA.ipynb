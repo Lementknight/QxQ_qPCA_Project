{
 "cells": [
  {
   "cell_type": "code",
   "execution_count": 22,
   "id": "a05d4b52-80f1-458e-8254-8c26e62ceaa9",
   "metadata": {},
   "outputs": [],
   "source": [
    "import numpy as np\n",
    "from sklearn.decomposition import PCA\n",
    "import matplotlib.pyplot as plt\n",
    "# Importing standard Qiskit libraries"
   ]
  },
  {
   "cell_type": "code",
   "execution_count": 30,
   "id": "888dc635-c05e-4d85-9ccc-f4d993274046",
   "metadata": {},
   "outputs": [
    {
     "data": {
      "text/plain": [
       "array([[0.4489, 0.2304, 0.2162, 0.    ],\n",
       "       [0.2304, 0.2518, 0.2399, 0.    ],\n",
       "       [0.2162, 0.2399, 0.2993, 0.    ],\n",
       "       [0.    , 0.    , 0.    , 0.    ]])"
      ]
     },
     "metadata": {},
     "output_type": "display_data"
    }
   ],
   "source": [
    "# Example matrix\n",
    "# a = np.array([[126, 78], [128, 80], [128, 82], [130, 82], [130, 84],  [132, 86]], dtype=np.int32)\n",
    "a = np.array([[0.4489, 0.2304, 0.2162, 0],[0.2304, 0.2518, 0.2399, 0], [0.2162, 0.2399, 0.2993, 0], [0, 0, 0, 0]])\n",
    "display(a)"
   ]
  },
  {
   "cell_type": "code",
   "execution_count": 31,
   "id": "54e19664-8d61-4a7a-a2cf-108205f04995",
   "metadata": {},
   "outputs": [],
   "source": [
    "#Let's create a function to do this for us:\n",
    "class new_PCA:\n",
    "    def __init__(self, matrix):\n",
    "        self.matrix = matrix\n",
    "        self.centered = self.center_matrix(matrix)\n",
    "        self.covariance = np.cov(self.centered, rowvar=False)\n",
    "        self.eigen = np.linalg.eig(self.covariance)\n",
    "        self.eigenvalues, self.eigenvectors = self.organizer(self.eigen)\n",
    "        self.projection = self.PCA(self.centered, self.eigenvectors)\n",
    "    \n",
    "    def center_matrix(self, matrix):\n",
    "        return matrix - matrix.mean(axis=0)\n",
    "\n",
    "    \n",
    "    def organizer(self, eigen):\n",
    "        index_list = np.flip(np.argsort(eigen[0]))\n",
    "        newvectors = np.empty((0,len(eigen[0])))\n",
    "        eigen_vectors = eigen[1].transpose()\n",
    "        for i in index_list:\n",
    "            newvectors = np.append(newvectors, [eigen_vectors[i]], axis=0)\n",
    "        return np.flip(np.sort(eigen[0])), newvectors.transpose()\n",
    "    \n",
    "    \n",
    "    def PCA(self, centered, eigenvectors):\n",
    "        return centered.dot(eigenvectors)"
   ]
  },
  {
   "cell_type": "code",
   "execution_count": 34,
   "id": "6eef4ec2-f633-43c7-9ff1-843fba64bb80",
   "metadata": {},
   "outputs": [
    {
     "name": "stdout",
     "output_type": "stream",
     "text": [
      "eigenvectors:\n",
      " [[ 0.72619265  0.67731038  0.11787656  0.        ]\n",
      " [ 0.48323884 -0.38092657 -0.78827354  0.        ]\n",
      " [ 0.48900355 -0.62940098  0.60392875  0.        ]\n",
      " [ 0.          0.          0.          1.        ]]\n",
      "eigenvalues:\n",
      " [0.0558312  0.00909384 0.00032753 0.        ]\n",
      "Principal transformation:\n",
      " [[ 0.20088728  0.11619894  0.00372748  0.        ]\n",
      " [ 0.06414489 -0.05486201 -0.02458449  0.        ]\n",
      " [ 0.07712922 -0.09733321  0.01899549  0.        ]\n",
      " [-0.34216139  0.03599628  0.00186152  0.        ]]\n"
     ]
    },
    {
     "data": {
      "image/png": "[encoded data removed]",
      "text/plain": [
       "<Figure size 432x288 with 1 Axes>"
      ]
     },
     "metadata": {
      "needs_background": "light"
     },
     "output_type": "display_data"
    }
   ],
   "source": [
    "pca_matrix = new_PCA(a)\n",
    "pca_matrix.projection\n",
    "print(\"eigenvectors:\\n\", pca_matrix.eigenvectors)\n",
    "print(\"eigenvalues:\\n\", pca_matrix.eigenvalues)\n",
    "print(\"Principal transformation:\\n\", pca_matrix.projection)\n",
    "plt.imshow(pca_matrix.projection)\n",
    "plt.show()\n"
   ]
  },
  {
   "cell_type": "code",
   "execution_count": 36,
   "id": "ecfaa9af-20e9-47eb-97ec-f31f52f7f0ba",
   "metadata": {},
   "outputs": [
    {
     "name": "stdout",
     "output_type": "stream",
     "text": [
      "eigenvectors:\n",
      " [[-0.72619265 -0.48323884 -0.48900355 -0.        ]\n",
      " [ 0.67731038 -0.38092657 -0.62940098  0.        ]\n",
      " [-0.11787656  0.78827354 -0.60392875 -0.        ]\n",
      " [ 0.          0.          0.          1.        ]]\n",
      "eigenvalues:\n",
      " [0.0558312  0.00909384 0.00032753 0.        ]\n",
      "Principal transformation:\n",
      " [[-0.20088728  0.11619894 -0.00372748  0.        ]\n",
      " [-0.06414489 -0.05486201  0.02458449  0.        ]\n",
      " [-0.07712922 -0.09733321 -0.01899549  0.        ]\n",
      " [ 0.34216139  0.03599628 -0.00186152  0.        ]]\n"
     ]
    },
    {
     "data": {
      "image/png": "[encoded data removed]",
      "text/plain": [
       "<Figure size 432x288 with 1 Axes>"
      ]
     },
     "metadata": {
      "needs_background": "light"
     },
     "output_type": "display_data"
    }
   ],
   "source": [
    "# PCA Ready module. We'll use as benchmark.\n",
    "oldPCA = PCA()\n",
    "oldPCA.fit(a)\n",
    "print(\"eigenvectors:\\n\", oldPCA.components_)\n",
    "print(\"eigenvalues:\\n\", oldPCA.explained_variance_)\n",
    "print(\"Principal transformation:\\n\", oldPCA.transform(a))\n",
    "plt.imshow(oldPCA.transform(a))\n",
    "plt.show()"
   ]
  },
  {
   "cell_type": "code",
   "execution_count": 33,
   "id": "77e43c82-d8ad-49c6-9a3d-e3eab6cbf3f4",
   "metadata": {},
   "outputs": [
    {
     "data": {
      "text/plain": [
       "array([[3087,  906],\n",
       "       [1405,   58]])"
      ]
     },
     "metadata": {},
     "output_type": "display_data"
    },
    {
     "data": {
      "text/plain": [
       "array([[ 841.,  424.],\n",
       "       [-841., -424.]])"
      ]
     },
     "metadata": {},
     "output_type": "display_data"
    },
    {
     "data": {
      "text/plain": [
       "array([[ 9.41837035e+02, -8.88178420e-16],\n",
       "       [-9.41837035e+02,  8.88178420e-16]])"
      ]
     },
     "metadata": {},
     "output_type": "display_data"
    },
    {
     "data": {
      "text/plain": [
       "<matplotlib.image.AxesImage at 0x272cacdb100>"
      ]
     },
     "execution_count": 33,
     "metadata": {},
     "output_type": "execute_result"
    },
    {
     "data": {
      "image/png": "[encoded data removed]",
      "text/plain": [
       "<Figure size 432x288 with 1 Axes>"
      ]
     },
     "metadata": {
      "needs_background": "light"
     },
     "output_type": "display_data"
    }
   ],
   "source": [
    "e = np.array([[3087, 906], [1405, 58]])\n",
    "display(e)\n",
    "e_PCA = new_PCA(e)\n",
    "display(e_PCA.centered)\n",
    "display(e_PCA.projection)\n",
    "plt.imshow(e_PCA.projection)"
   ]
  }
 ],
 "metadata": {
  "kernelspec": {
   "display_name": "Python 3.10.5 64-bit (windows store)",
   "language": "python",
   "name": "python3"
  },
  "language_info": {
   "codemirror_mode": {
    "name": "ipython",
    "version": 3
   },
   "file_extension": ".py",
   "mimetype": "text/x-python",
   "name": "python",
   "nbconvert_exporter": "python",
   "pygments_lexer": "ipython3",
   "version": "3.10.5"
  },
  "vscode": {
   "interpreter": {
    "hash": "2f1ecd46939c8a0e18d0b4e4aafe22eeb48e258c80a645f391859296b7f46da6"
   }
  },
  "widgets": {
   "application/vnd.jupyter.widget-state+json": {
    "state": {
     "0ac9c5b86dc94304b20d3a257a898eef": {
      "model_module": "@jupyter-widgets/controls",
      "model_module_version": "1.5.0",
      "model_name": "HTMLModel",
      "state": {
       "layout": "IPY_MODEL_c99c560255a74e0ab4a08a1d567446b1",
       "style": "IPY_MODEL_373c15e2965b48ce8575cb68488fc5f7",
       "value": "<h5>Message</h5>"
      }
     },
     "22a1273db3884e499f9d0acec573e7d4": {
      "model_module": "@jupyter-widgets/controls",
      "model_module_version": "1.5.0",
      "model_name": "GridBoxModel",
      "state": {
       "children": [
        "IPY_MODEL_9eb606611f1f496caa1d824f7d965f72"
       ],
       "layout": "IPY_MODEL_3dda73f12a0f4383a8773f6e286a5de6"
      }
     },
     "2b8e842918d04eaa8c6589a49e01747c": {
      "model_module": "@jupyter-widgets/base",
      "model_module_version": "1.2.0",
      "model_name": "LayoutModel",
      "state": {
       "width": "70px"
      }
     },
     "373c15e2965b48ce8575cb68488fc5f7": {
      "model_module": "@jupyter-widgets/controls",
      "model_module_version": "1.5.0",
      "model_name": "DescriptionStyleModel",
      "state": {
       "description_width": ""
      }
     },
     "3c60846ddc3c4ac896088d30bbc5e025": {
      "model_module": "@jupyter-widgets/controls",
      "model_module_version": "1.5.0",
      "model_name": "DescriptionStyleModel",
      "state": {
       "description_width": ""
      }
     },
     "3dda73f12a0f4383a8773f6e286a5de6": {
      "model_module": "@jupyter-widgets/base",
      "model_module_version": "1.2.0",
      "model_name": "LayoutModel",
      "state": {
       "grid_template_areas": "\n                                       \". . . . right \"\n                                        ",
       "grid_template_columns": "20% 20% 20% 20% 20%",
       "width": "100%"
      }
     },
     "46a37ac8e2304b7c8f863ef7295182e9": {
      "model_module": "@jupyter-widgets/base",
      "model_module_version": "1.2.0",
      "model_name": "LayoutModel",
      "state": {
       "grid_area": "right",
       "padding": "0px 0px 0px 0px",
       "width": "70px"
      }
     },
     "5e4dc8d5befe45d3aa9b5cb104aa8b4c": {
      "model_module": "@jupyter-widgets/controls",
      "model_module_version": "1.5.0",
      "model_name": "ButtonStyleModel",
      "state": {}
     },
     "619765dfd4e64c12b098ba3c74b3685a": {
      "model_module": "@jupyter-widgets/controls",
      "model_module_version": "1.5.0",
      "model_name": "DescriptionStyleModel",
      "state": {
       "description_width": ""
      }
     },
     "698afc3908b944b588a81e3c4b12339e": {
      "model_module": "@jupyter-widgets/base",
      "model_module_version": "1.2.0",
      "model_name": "LayoutModel",
      "state": {
       "margin": "0px 0px 10px 0px"
      }
     },
     "7bce961b68234143bab7d35ea6b7cbd6": {
      "model_module": "@jupyter-widgets/controls",
      "model_module_version": "1.5.0",
      "model_name": "HTMLModel",
      "state": {
       "layout": "IPY_MODEL_2b8e842918d04eaa8c6589a49e01747c",
       "style": "IPY_MODEL_9b63a9836a1d490fb7ff2bae203580b1",
       "value": "<h5>Queue</h5>"
      }
     },
     "932982ae35024d2e8b13a0377187b0e8": {
      "model_module": "@jupyter-widgets/controls",
      "model_module_version": "1.5.0",
      "model_name": "DescriptionStyleModel",
      "state": {
       "description_width": ""
      }
     },
     "96947a4d31a54dcf90c3403fe970c8c8": {
      "model_module": "@jupyter-widgets/base",
      "model_module_version": "1.2.0",
      "model_name": "LayoutModel",
      "state": {
       "width": "95px"
      }
     },
     "994cc1aa7c9645a0905bc03f3aa320c5": {
      "model_module": "@jupyter-widgets/controls",
      "model_module_version": "1.5.0",
      "model_name": "DescriptionStyleModel",
      "state": {
       "description_width": ""
      }
     },
     "9b63a9836a1d490fb7ff2bae203580b1": {
      "model_module": "@jupyter-widgets/controls",
      "model_module_version": "1.5.0",
      "model_name": "DescriptionStyleModel",
      "state": {
       "description_width": ""
      }
     },
     "9eb606611f1f496caa1d824f7d965f72": {
      "model_module": "@jupyter-widgets/controls",
      "model_module_version": "1.5.0",
      "model_name": "ButtonModel",
      "state": {
       "button_style": "primary",
       "description": "Clear",
       "layout": "IPY_MODEL_46a37ac8e2304b7c8f863ef7295182e9",
       "style": "IPY_MODEL_5e4dc8d5befe45d3aa9b5cb104aa8b4c"
      }
     },
     "ae0b76e9b96d4068a51436214140debe": {
      "model_module": "@jupyter-widgets/controls",
      "model_module_version": "1.5.0",
      "model_name": "HTMLModel",
      "state": {
       "layout": "IPY_MODEL_96947a4d31a54dcf90c3403fe970c8c8",
       "style": "IPY_MODEL_3c60846ddc3c4ac896088d30bbc5e025",
       "value": "<h5>Status</h5>"
      }
     },
     "b4f99fdea7a74dc887d3d4dfebf61dba": {
      "model_module": "@jupyter-widgets/controls",
      "model_module_version": "1.5.0",
      "model_name": "HBoxModel",
      "state": {
       "children": [
        "IPY_MODEL_f5a79266baf0466b8165590601a2874c",
        "IPY_MODEL_f2c869ee09d64aa2835d469adbc2c914",
        "IPY_MODEL_ae0b76e9b96d4068a51436214140debe",
        "IPY_MODEL_7bce961b68234143bab7d35ea6b7cbd6",
        "IPY_MODEL_0ac9c5b86dc94304b20d3a257a898eef"
       ],
       "layout": "IPY_MODEL_bacf398753434a4881fb23f0d1965f34"
      }
     },
     "bacf398753434a4881fb23f0d1965f34": {
      "model_module": "@jupyter-widgets/base",
      "model_module_version": "1.2.0",
      "model_name": "LayoutModel",
      "state": {
       "margin": "0px 0px 0px 37px",
       "width": "600px"
      }
     },
     "c99c560255a74e0ab4a08a1d567446b1": {
      "model_module": "@jupyter-widgets/base",
      "model_module_version": "1.2.0",
      "model_name": "LayoutModel",
      "state": {}
     },
     "ca7223ef19904c409bee036d1a6dc570": {
      "model_module": "@jupyter-widgets/base",
      "model_module_version": "1.2.0",
      "model_name": "LayoutModel",
      "state": {
       "width": "190px"
      }
     },
     "d9b203c680ab4bc0b01fbb58f5fd011b": {
      "model_module": "@jupyter-widgets/controls",
      "model_module_version": "1.5.0",
      "model_name": "HTMLModel",
      "state": {
       "layout": "IPY_MODEL_698afc3908b944b588a81e3c4b12339e",
       "style": "IPY_MODEL_994cc1aa7c9645a0905bc03f3aa320c5",
       "value": "<p style='font-family: IBM Plex Sans, Arial, Helvetica, sans-serif; font-size: 20px; font-weight: medium;'>Circuit Properties</p>"
      }
     },
     "f2c869ee09d64aa2835d469adbc2c914": {
      "model_module": "@jupyter-widgets/controls",
      "model_module_version": "1.5.0",
      "model_name": "HTMLModel",
      "state": {
       "layout": "IPY_MODEL_faf4af80c1654ee78fd9b8e1d1acbef2",
       "style": "IPY_MODEL_619765dfd4e64c12b098ba3c74b3685a",
       "value": "<h5>Backend</h5>"
      }
     },
     "f5a79266baf0466b8165590601a2874c": {
      "model_module": "@jupyter-widgets/controls",
      "model_module_version": "1.5.0",
      "model_name": "HTMLModel",
      "state": {
       "layout": "IPY_MODEL_ca7223ef19904c409bee036d1a6dc570",
       "style": "IPY_MODEL_932982ae35024d2e8b13a0377187b0e8",
       "value": "<h5>Job ID</h5>"
      }
     },
     "faf4af80c1654ee78fd9b8e1d1acbef2": {
      "model_module": "@jupyter-widgets/base",
      "model_module_version": "1.2.0",
      "model_name": "LayoutModel",
      "state": {
       "width": "145px"
      }
     }
    },
    "version_major": 2,
    "version_minor": 0
   }
  }
 },
 "nbformat": 4,
 "nbformat_minor": 5
}
